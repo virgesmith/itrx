{
 "cells": [
  {
   "cell_type": "markdown",
   "id": "dac283f9",
   "metadata": {},
   "source": [
    "# `Itr` examples\n",
    "\n",
    "All the examples here make use of the generators/iterators defined next. One is open-ended and the other (very probably) not.\n",
    "\n",
    "### Fibonacci Generator and Iterator\n",
    "\n",
    "Two implementations of Fibonacci sequences: a generator and an iterator class.\n"
   ]
  },
  {
   "cell_type": "code",
   "execution_count": 1,
   "id": "8b2541fb",
   "metadata": {},
   "outputs": [],
   "source": [
    "import contextlib\n",
    "from collections.abc import Generator, Iterator\n",
    "from typing import Self\n",
    "\n",
    "from itrx import Itr"
   ]
  },
  {
   "cell_type": "code",
   "execution_count": 2,
   "id": "fc89902b",
   "metadata": {},
   "outputs": [],
   "source": [
    "def fibonacci() -> Generator[int, None, None]:\n",
    "    \"Generator implementation of Fibonacci\"\n",
    "    a, b = 0, 1\n",
    "    while True:\n",
    "        yield a\n",
    "        a, b = b, a + b\n",
    "\n",
    "\n",
    "class Fibonacci(Iterator[int]):\n",
    "    \"Iterator implementation of Fibonacci\"\n",
    "\n",
    "    def __init__(self) -> None:\n",
    "        self.a = 0\n",
    "        self.b = 1\n",
    "\n",
    "    def __iter__(self) -> Self:\n",
    "        return self\n",
    "\n",
    "    def __next__(self) -> int:\n",
    "        ret = self.a\n",
    "        self.a, self.b = self.b, self.a + self.b\n",
    "        return ret"
   ]
  },
  {
   "cell_type": "markdown",
   "id": "ecb041f0",
   "metadata": {},
   "source": [
    "\n",
    "### Collatz Generator\n",
    "\n",
    "An Generator function for Collatz sequences, which are bounded (for our purposes), terminating when the value reaches 1.\n",
    "\n"
   ]
  },
  {
   "cell_type": "code",
   "execution_count": 3,
   "id": "d9af20ad",
   "metadata": {},
   "outputs": [],
   "source": [
    "def collatz(n: int) -> Generator[int, None, None]:\n",
    "    \"\"\"Yield the Collatz sequence for the given input\"\"\"\n",
    "    assert n > 0\n",
    "    while n != 1:\n",
    "        yield n\n",
    "        n = 3 * n + 1 if n % 2 else n // 2\n",
    "    yield 1"
   ]
  },
  {
   "cell_type": "markdown",
   "id": "621d9afa",
   "metadata": {},
   "source": [
    "## Construction and extraction\n",
    "\n",
    "Examples of constructing `Itr` objects from different data types and performing materialisation operations like\n",
    " `collect()`, `count()`, and `last()`.\n",
    "\n",
    "Construct from a generator, `take` some values and `collect` into a set. Then get the `next_chunk`, and the `nth` after that:\n",
    "\n",
    "NB `collect` returns a tuple by default but supports `list` `set` and `dict`:"
   ]
  },
  {
   "cell_type": "code",
   "execution_count": 4,
   "id": "83d002b5",
   "metadata": {},
   "outputs": [
    {
     "data": {
      "text/plain": [
       "{0, 1, 2, 3, 5, 8, 13, 21, 34}"
      ]
     },
     "metadata": {},
     "output_type": "display_data"
    },
    {
     "data": {
      "text/plain": [
       "(55, 89, 144, 233, 377, 610, 987, 1597, 2584, 4181)"
      ]
     },
     "metadata": {},
     "output_type": "display_data"
    },
    {
     "data": {
      "text/plain": [
       "514229"
      ]
     },
     "execution_count": 4,
     "metadata": {},
     "output_type": "execute_result"
    }
   ],
   "source": [
    "f = Itr(Fibonacci())\n",
    "display(f.take(10).collect(set))\n",
    "display(f.next_chunk(10))\n",
    "f.nth(10)  # 30th value (1-indexed)"
   ]
  },
  {
   "cell_type": "markdown",
   "id": "8d299fae",
   "metadata": {},
   "source": [
    "With a bounded generator we can just `collect` directly:"
   ]
  },
  {
   "cell_type": "code",
   "execution_count": 5,
   "id": "99c944c1",
   "metadata": {},
   "outputs": [
    {
     "data": {
      "text/plain": [
       "(19, 58, 29, 88, 44, 22, 11, 34, 17, 52, 26, 13, 40, 20, 10, 5, 16, 8, 4, 2, 1)"
      ]
     },
     "execution_count": 5,
     "metadata": {},
     "output_type": "execute_result"
    }
   ],
   "source": [
    "Itr(collatz(19)).collect()"
   ]
  },
  {
   "cell_type": "markdown",
   "id": "f81c9465",
   "metadata": {},
   "source": [
    "Some points to note:\n",
    "- an `nth` call that overruns the sequence raises a `StopIteration`\n",
    "- a `skip` call that overruns the sequence raises a `StopIteration`\n",
    "- `step_by` yields an item and then steps (same behaviour as `itetools.islice`)\n",
    "- constructing `Itr` directly from a dictionary captures only the keys, use the `items` method to caputure key, \n",
    "value tuples.\n",
    "- `iter` and `next`: `iter(itr)` is equivalent and interchangeable with `itr.__iter__()`. Same applies to `next(itr)` \n",
    "and `itr.next()` or `itr.__next__()`\n"
   ]
  },
  {
   "cell_type": "code",
   "execution_count": 6,
   "id": "fd47677f",
   "metadata": {},
   "outputs": [
    {
     "data": {
      "text/plain": [
       "(19, 88, 11, 52, 40, 5, 4)"
      ]
     },
     "metadata": {},
     "output_type": "display_data"
    },
    {
     "data": {
      "text/plain": [
       "('a', 'b')"
      ]
     },
     "metadata": {},
     "output_type": "display_data"
    },
    {
     "data": {
      "text/plain": [
       "(('a', 1), ('b', 2))"
      ]
     },
     "metadata": {},
     "output_type": "display_data"
    }
   ],
   "source": [
    "with contextlib.suppress(StopIteration):\n",
    "    Itr(collatz(4)).nth(10)  # Collatz(4) = 4,2,1\n",
    "\n",
    "with contextlib.suppress(StopIteration):\n",
    "    Itr(collatz(4)).skip(10)\n",
    "\n",
    "display(Itr(collatz(19)).step_by(3).collect())\n",
    "\n",
    "dict_it = Itr({\"a\": 1, \"b\": 2})\n",
    "display(dict_it.collect())\n",
    "dict_it = Itr({\"a\": 1, \"b\": 2}.items())\n",
    "display(dict_it.collect())"
   ]
  },
  {
   "cell_type": "markdown",
   "id": "55b37323",
   "metadata": {},
   "source": [
    "## Chaining\n",
    "\n",
    "Comparing `Itr`'s ability to chain vs itertools. Note that in the second expression the generator is explicitly \n",
    "materialised into a `list` in order to reverse it - `Itr.rev` can't avoid this either, but it's done internally."
   ]
  },
  {
   "cell_type": "code",
   "execution_count": 7,
   "id": "8bcc535f",
   "metadata": {},
   "outputs": [
    {
     "name": "stdout",
     "output_type": "stream",
     "text": [
      "484\n",
      "484\n"
     ]
    }
   ],
   "source": [
    "import itertools\n",
    "\n",
    "Itr(collatz(19)).rev().step_by(3).skip(5).map(lambda x: x * x).filter(lambda x: x % 2 == 0).for_each(print)\n",
    "\n",
    "# itertools equivalent\n",
    "for item in filter(\n",
    "    lambda x: x % 2 == 0,\n",
    "    (x * x for x in itertools.islice(itertools.islice(reversed(list(collatz(19))), None, None, 3), 5, None)),\n",
    "):\n",
    "    print(item)"
   ]
  },
  {
   "cell_type": "markdown",
   "id": "3c56d881",
   "metadata": {},
   "source": [
    "Using `inspect` allows intermediate steps to be logged. As there's a side-effect you might even want to discard the output, using `consume`:"
   ]
  },
  {
   "cell_type": "code",
   "execution_count": 8,
   "id": "4c33c79c",
   "metadata": {},
   "outputs": [
    {
     "name": "stdout",
     "output_type": "stream",
     "text": [
      "1\n",
      "8\n",
      "10\n",
      "13\n",
      "17\n",
      "22\n",
      "29\n"
     ]
    }
   ],
   "source": [
    "Itr(collatz(19)).rev().step_by(3).inspect(print).skip(5).map(lambda x: x * x).filter(lambda x: x % 2 == 0).consume()"
   ]
  },
  {
   "cell_type": "markdown",
   "id": "0c44a1cf",
   "metadata": {},
   "source": [
    "\n",
    "### Combining and Splitting Iterators\n",
    "\n",
    "Methods for combining, splitting, or transforming multiple iterators.\n",
    "\n",
    "`chain` concatenates two iterables:\n",
    "\n"
   ]
  },
  {
   "cell_type": "code",
   "execution_count": 9,
   "id": "d9b906a6",
   "metadata": {},
   "outputs": [
    {
     "data": {
      "text/plain": [
       "(5, 16, 8, 4, 2, 1, 6, 3, 10, 5, 16, 8, 4, 2, 1)"
      ]
     },
     "execution_count": 9,
     "metadata": {},
     "output_type": "execute_result"
    }
   ],
   "source": [
    "Itr(collatz(5)).chain(collatz(6)).collect()"
   ]
  },
  {
   "cell_type": "markdown",
   "id": "16cbcf8e",
   "metadata": {},
   "source": [
    "`zip` combines elements from iterables into tuples (stopping when either is exhausted):"
   ]
  },
  {
   "cell_type": "code",
   "execution_count": 10,
   "id": "377cd2c0",
   "metadata": {},
   "outputs": [
    {
     "data": {
      "text/plain": [
       "((5, 6), (16, 3), (8, 10), (4, 5), (2, 16), (1, 8))"
      ]
     },
     "execution_count": 10,
     "metadata": {},
     "output_type": "execute_result"
    }
   ],
   "source": [
    "Itr(collatz(5)).zip(collatz(6)).collect()"
   ]
  },
  {
   "cell_type": "markdown",
   "id": "2e94d3db",
   "metadata": {},
   "source": [
    "`unzip` splits into two separate iterators: \n",
    "(NB The original iterator must yield pairs)"
   ]
  },
  {
   "cell_type": "code",
   "execution_count": 11,
   "id": "03e8e659",
   "metadata": {},
   "outputs": [
    {
     "data": {
      "text/plain": [
       "((5, 16, 8, 4, 2, 1), (6, 3, 10, 5, 16, 8))"
      ]
     },
     "execution_count": 11,
     "metadata": {},
     "output_type": "execute_result"
    }
   ],
   "source": [
    "itr1, itr2 = Itr(collatz(5)).zip(collatz(6)).unzip()\n",
    "itr1.collect(), itr2.collect()"
   ]
  },
  {
   "cell_type": "markdown",
   "id": "f62abaad",
   "metadata": {},
   "source": [
    "`intersperse` Inserts a value between items:"
   ]
  },
  {
   "cell_type": "code",
   "execution_count": 12,
   "id": "c3b77ea4",
   "metadata": {},
   "outputs": [
    {
     "data": {
      "text/plain": [
       "(8, 'abcde', 4, 'abcde', 2, 'abcde', 1)"
      ]
     },
     "execution_count": 12,
     "metadata": {},
     "output_type": "execute_result"
    }
   ],
   "source": [
    "Itr(collatz(8)).intersperse(\"abcde\").collect()"
   ]
  },
  {
   "cell_type": "markdown",
   "id": "cbf61517",
   "metadata": {},
   "source": [
    "`interleave` alternates values from two sequences (and ends when either sequence is exhausted):"
   ]
  },
  {
   "cell_type": "code",
   "execution_count": 13,
   "id": "ed21cfb9",
   "metadata": {},
   "outputs": [
    {
     "data": {
      "text/plain": [
       "(5, 1, 16, 2, 8, 4, 4, 8, 2, 16, 1, 5)"
      ]
     },
     "execution_count": 13,
     "metadata": {},
     "output_type": "execute_result"
    }
   ],
   "source": [
    "Itr(collatz(5)).interleave(Itr(collatz(5)).rev()).collect()"
   ]
  },
  {
   "cell_type": "markdown",
   "id": "11bfe623",
   "metadata": {},
   "source": [
    "\n",
    "`enumerate` adds an index to each item:\n",
    "\n"
   ]
  },
  {
   "cell_type": "code",
   "execution_count": 14,
   "id": "53be0e6a",
   "metadata": {},
   "outputs": [
    {
     "data": {
      "text/plain": [
       "((1, 5), (2, 16), (3, 8), (4, 4), (5, 2), (6, 1))"
      ]
     },
     "execution_count": 14,
     "metadata": {},
     "output_type": "execute_result"
    }
   ],
   "source": [
    "Itr(collatz(5)).enumerate(start=1).collect()"
   ]
  },
  {
   "cell_type": "markdown",
   "id": "298e932b",
   "metadata": {},
   "source": [
    "### Transformation and Filtering\n",
    "\n",
    "Methods for transforming elements or filtering based on conditions.\n",
    "\n",
    "`filter` keeps elements that satisfy a predicate.\n",
    "\n"
   ]
  },
  {
   "cell_type": "code",
   "execution_count": 15,
   "id": "bb9a323a",
   "metadata": {},
   "outputs": [
    {
     "data": {
      "text/plain": [
       "(5, 8, 4)"
      ]
     },
     "execution_count": 15,
     "metadata": {},
     "output_type": "execute_result"
    }
   ],
   "source": [
    "Itr(collatz(19)).filter(lambda i: 4 <= i < 9).collect()"
   ]
  },
  {
   "cell_type": "markdown",
   "id": "7a40cd61",
   "metadata": {},
   "source": [
    "`map` transforms each element in a sequence and `for_each` passes each element to a function with side-effects (return values are not collected):\n"
   ]
  },
  {
   "cell_type": "code",
   "execution_count": 16,
   "id": "87e4444d",
   "metadata": {},
   "outputs": [
    {
     "name": "stdout",
     "output_type": "stream",
     "text": [
      "0.0\n",
      "1.0\n",
      "1.0\n",
      "1.4142135623730951\n",
      "1.7320508075688772\n"
     ]
    }
   ],
   "source": [
    "Itr(fibonacci()).take(5).map(lambda i: i**0.5).for_each(print)"
   ]
  },
  {
   "cell_type": "markdown",
   "id": "61943275",
   "metadata": {},
   "source": [
    "`starmap` is a variant that expands each element as `*args` so that multi-argument functions can be called (each item must be a sequence):"
   ]
  },
  {
   "cell_type": "code",
   "execution_count": 17,
   "id": "6c9cb5c1",
   "metadata": {},
   "outputs": [
    {
     "data": {
      "text/plain": [
       "(5, 17, 9, 6, 5, 6)"
      ]
     },
     "execution_count": 17,
     "metadata": {},
     "output_type": "execute_result"
    }
   ],
   "source": [
    "def add(x, y):\n",
    "    \"\"\"Sum x and y\"\"\"\n",
    "    return x + y\n",
    "\n",
    "\n",
    "# 5 16 8 4 2 1\n",
    "# 0  1 1 2 3 5\n",
    "Itr(collatz(5)).zip(fibonacci()).starmap(add).collect()"
   ]
  },
  {
   "cell_type": "markdown",
   "id": "9691843b",
   "metadata": {},
   "source": [
    "\n",
    "`flatten` and `flat_map`: both flatten a sequence of sequences, the latter also transforms the flattened items:\n",
    "\n"
   ]
  },
  {
   "cell_type": "code",
   "execution_count": 18,
   "id": "9d9bed75",
   "metadata": {},
   "outputs": [
    {
     "data": {
      "text/plain": [
       "(1, 1, 2, 2, 3, 3, 3, 5, 5, 5, 5, 5)"
      ]
     },
     "metadata": {},
     "output_type": "display_data"
    },
    {
     "data": {
      "text/plain": [
       "(1, 1, 4, 4, 9, 9, 9, 25, 25, 25, 25, 25)"
      ]
     },
     "metadata": {},
     "output_type": "display_data"
    }
   ],
   "source": [
    "display(Itr(fibonacci()).take(6).map(lambda n: (n,) * n).flatten().collect())\n",
    "\n",
    "display(Itr(fibonacci()).take(6).map(lambda n: (n,) * n).flat_map(lambda i: i * i).collect())"
   ]
  },
  {
   "cell_type": "markdown",
   "id": "55fe650d",
   "metadata": {},
   "source": [
    "`partition` splits an iterator into two based on a predicate. The original iterator is consumed."
   ]
  },
  {
   "cell_type": "code",
   "execution_count": 19,
   "id": "ad83ad71",
   "metadata": {},
   "outputs": [
    {
     "data": {
      "text/plain": [
       "((0, 2, 8, 34, 144, 610, 2584),\n",
       " (1, 1, 3, 5, 13, 21, 55, 89, 233, 377, 987, 1597, 4181),\n",
       " ())"
      ]
     },
     "execution_count": 19,
     "metadata": {},
     "output_type": "execute_result"
    }
   ],
   "source": [
    "it0 = Itr(fibonacci()).take(20)\n",
    "it1, it2 = it0.partition(lambda x: x % 2 == 0)\n",
    "# it0 is consumed when it1 or it2 is accessed\n",
    "it1.collect(), it2.collect(), it0.collect()"
   ]
  },
  {
   "cell_type": "markdown",
   "id": "64087520",
   "metadata": {},
   "source": [
    "`copy` creates a shallow copy of the iterator's state:"
   ]
  },
  {
   "cell_type": "code",
   "execution_count": 20,
   "id": "b52225da",
   "metadata": {},
   "outputs": [
    {
     "data": {
      "text/plain": [
       "(10, 5)"
      ]
     },
     "execution_count": 20,
     "metadata": {},
     "output_type": "execute_result"
    }
   ],
   "source": [
    "it0 = Itr(collatz(10))\n",
    "it1 = it0.copy()\n",
    "next(it0)  # Advance it0 (only)\n",
    "next(it1), next(it0)"
   ]
  },
  {
   "cell_type": "markdown",
   "id": "fd54367a",
   "metadata": {},
   "source": [
    "`batched` groups elements into tuples of a specified size: (The final item may be shorter.)"
   ]
  },
  {
   "cell_type": "code",
   "execution_count": 21,
   "id": "7fcc7a00",
   "metadata": {},
   "outputs": [
    {
     "data": {
      "text/plain": [
       "((19, 58, 29, 88, 44, 22),\n",
       " (11, 34, 17, 52, 26, 13),\n",
       " (40, 20, 10, 5, 16, 8),\n",
       " (4, 2, 1))"
      ]
     },
     "execution_count": 21,
     "metadata": {},
     "output_type": "execute_result"
    }
   ],
   "source": [
    "it = Itr(collatz(19)).batched(6)\n",
    "it.collect()"
   ]
  },
  {
   "cell_type": "markdown",
   "id": "0382ee2b",
   "metadata": {},
   "source": [
    "`pairwise` and `rolling`: generate rolling windows of elements:"
   ]
  },
  {
   "cell_type": "code",
   "execution_count": 22,
   "id": "6f2d5115",
   "metadata": {},
   "outputs": [
    {
     "data": {
      "text/plain": [
       "((10, 5, 16), (5, 16, 8), (16, 8, 4), (8, 4, 2), (4, 2, 1))"
      ]
     },
     "execution_count": 22,
     "metadata": {},
     "output_type": "execute_result"
    }
   ],
   "source": [
    "Itr(collatz(10)).rolling(3).collect()"
   ]
  },
  {
   "cell_type": "markdown",
   "id": "bd3cced9",
   "metadata": {},
   "source": [
    "`groupby` groups consecutive elements by a key. It's often convenient to `collect` into a `dict`:"
   ]
  },
  {
   "cell_type": "code",
   "execution_count": 23,
   "id": "cce14801",
   "metadata": {},
   "outputs": [
    {
     "data": {
      "text/plain": [
       "{1: (19, 58, 88, 22, 34, 52, 13, 40, 10, 16, 4, 1),\n",
       " 2: (29, 44, 11, 17, 26, 20, 5, 8, 2)}"
      ]
     },
     "execution_count": 23,
     "metadata": {},
     "output_type": "execute_result"
    }
   ],
   "source": [
    "Itr(collatz(19)).groupby(lambda n: n % 3).collect(dict)"
   ]
  },
  {
   "cell_type": "markdown",
   "id": "b2a4fb4b",
   "metadata": {},
   "source": [
    "\n",
    "### Aggregation\n",
    "\n",
    "Methods for reducing an iterator to a single value:\n",
    "\n",
    "- `fold`: Applies a function cumulatively to the elements, accumulating the results, starting with an initial value.\n",
    "- `reduce`: is the same but uses the first element as the initial value."
   ]
  },
  {
   "cell_type": "code",
   "execution_count": 24,
   "id": "2ba56157",
   "metadata": {},
   "outputs": [
    {
     "data": {
      "text/plain": [
       "(46, 46)"
      ]
     },
     "execution_count": 24,
     "metadata": {},
     "output_type": "execute_result"
    }
   ],
   "source": [
    "Itr(collatz(10)).fold(0, add), Itr(collatz(10)).reduce(add)"
   ]
  },
  {
   "cell_type": "markdown",
   "id": "16bae27d",
   "metadata": {},
   "source": [
    "\n",
    "### Predicates and Terminal Operations\n",
    "\n",
    "Methods that return a boolean or consume the iterator for side effects.\n",
    "\n",
    "`all` checks if all elements satisfy a predicate; `any` check if at least one element satisfies the predicate:\n",
    "\n",
    "Note that `all` will always consume the entire iterator (and should never be using on unbounded sequences), whereas \n",
    "`any` will stop when the predicate is satified\n",
    "\n",
    "`max` and `min` consume elements and return the maximum and minimum elements respectively."
   ]
  },
  {
   "cell_type": "code",
   "execution_count": 25,
   "id": "fab7b5c0",
   "metadata": {},
   "outputs": [
    {
     "data": {
      "text/plain": [
       "True"
      ]
     },
     "metadata": {},
     "output_type": "display_data"
    },
    {
     "data": {
      "text/plain": [
       "(10, 5, 16, 8, 4, 2, 1)"
      ]
     },
     "metadata": {},
     "output_type": "display_data"
    },
    {
     "data": {
      "text/plain": [
       "True"
      ]
     },
     "metadata": {},
     "output_type": "display_data"
    },
    {
     "data": {
      "text/plain": [
       "16"
      ]
     },
     "metadata": {},
     "output_type": "display_data"
    },
    {
     "data": {
      "text/plain": [
       "8"
      ]
     },
     "execution_count": 25,
     "metadata": {},
     "output_type": "execute_result"
    }
   ],
   "source": [
    "itr = Itr(collatz(8))\n",
    "display(itr.all(lambda x: x < 10))\n",
    "# itr.next()  # would raise StopIteration\n",
    "\n",
    "itr = Itr(collatz(10))\n",
    "display(itr.copy().collect())\n",
    "display(itr.any(lambda x: x < 10))  # satisfied by second element\n",
    "display(itr.next())  # yields third element\n",
    "\n",
    "itr.max()  # now the fourth element, itr is now exhausted"
   ]
  },
  {
   "cell_type": "markdown",
   "id": "aba84990",
   "metadata": {},
   "source": [
    "### Iterator Manipulations\n",
    "\n",
    "`skip_while` skips elements as long as the predicate is true. `take_while()` conversely will take elements until the \n",
    "predicate is no longer true:"
   ]
  },
  {
   "cell_type": "code",
   "execution_count": 26,
   "id": "2ac1c105",
   "metadata": {},
   "outputs": [
    {
     "data": {
      "text/plain": [
       "(88, 44, 22, 11, 34, 17, 52, 26, 13, 40, 20, 10, 5, 16, 8, 4, 2, 1)"
      ]
     },
     "metadata": {},
     "output_type": "display_data"
    },
    {
     "data": {
      "text/plain": [
       "(19, 58, 29)"
      ]
     },
     "execution_count": 26,
     "metadata": {},
     "output_type": "execute_result"
    }
   ],
   "source": [
    "display(Itr(collatz(19)).skip_while(lambda i: i < 80).collect())  # skips the first 3\n",
    "Itr(collatz(19)).take_while(lambda i: i < 80).collect()  # takes the first 3"
   ]
  },
  {
   "cell_type": "markdown",
   "id": "0ee62dec",
   "metadata": {},
   "source": [
    "`cycle` repeats the iterator elements indefinitely:"
   ]
  },
  {
   "cell_type": "code",
   "execution_count": 27,
   "id": "3be2d7d0",
   "metadata": {},
   "outputs": [
    {
     "data": {
      "text/plain": [
       "(5, 16, 8, 4, 2, 1, 5, 16, 8, 4, 2, 1)"
      ]
     },
     "execution_count": 27,
     "metadata": {},
     "output_type": "execute_result"
    }
   ],
   "source": [
    "it = Itr(collatz(5)).cycle()\n",
    "it.take(12).collect()"
   ]
  },
  {
   "cell_type": "markdown",
   "id": "cd6d24c4",
   "metadata": {},
   "source": [
    "\n",
    "`repeat` repeats the iterator `n` times:\n",
    "    \n"
   ]
  },
  {
   "cell_type": "code",
   "execution_count": 28,
   "id": "dac3efaa",
   "metadata": {},
   "outputs": [
    {
     "data": {
      "text/plain": [
       "(5, 16, 8, 4, 2, 1, 5, 16, 8, 4, 2, 1, 5, 16, 8, 4, 2, 1)"
      ]
     },
     "execution_count": 28,
     "metadata": {},
     "output_type": "execute_result"
    }
   ],
   "source": [
    "Itr(collatz(5)).repeat(3).collect()"
   ]
  },
  {
   "cell_type": "markdown",
   "id": "7353d2aa",
   "metadata": {},
   "source": [
    "`product` produces the Cartesian product with another iterable:"
   ]
  },
  {
   "cell_type": "code",
   "execution_count": 29,
   "id": "1be027d4",
   "metadata": {},
   "outputs": [
    {
     "data": {
      "text/plain": [
       "((5, 2),\n",
       " (5, 1),\n",
       " (16, 2),\n",
       " (16, 1),\n",
       " (8, 2),\n",
       " (8, 1),\n",
       " (4, 2),\n",
       " (4, 1),\n",
       " (2, 2),\n",
       " (2, 1),\n",
       " (1, 2),\n",
       " (1, 1))"
      ]
     },
     "execution_count": 29,
     "metadata": {},
     "output_type": "execute_result"
    }
   ],
   "source": [
    "Itr(collatz(5)).product(collatz(2)).collect()"
   ]
  }
 ],
 "metadata": {
  "kernelspec": {
   "display_name": "itrx",
   "language": "python",
   "name": "python3"
  },
  "language_info": {
   "codemirror_mode": {
    "name": "ipython",
    "version": 3
   },
   "file_extension": ".py",
   "mimetype": "text/x-python",
   "name": "python",
   "nbconvert_exporter": "python",
   "pygments_lexer": "ipython3",
   "version": "3.14.0"
  }
 },
 "nbformat": 4,
 "nbformat_minor": 5
}
